{
 "cells": [
  {
   "cell_type": "markdown",
   "metadata": {},
   "source": [
    "Lists"
   ]
  },
  {
   "cell_type": "code",
   "execution_count": 5,
   "metadata": {},
   "outputs": [],
   "source": [
    "# Lists are mutable arrays\n",
    "\n",
    "names = [\"Nguyen\", \"Minh\", \"Nghia\"]"
   ]
  },
  {
   "cell_type": "code",
   "execution_count": 2,
   "metadata": {},
   "outputs": [
    {
     "name": "stdout",
     "output_type": "stream",
     "text": [
      "Nguyen\n"
     ]
    }
   ],
   "source": [
    "# Index into list by index\n",
    "print(names[0])"
   ]
  },
  {
   "cell_type": "code",
   "execution_count": 6,
   "metadata": {},
   "outputs": [
    {
     "name": "stdout",
     "output_type": "stream",
     "text": [
      "['Nguyen', 'Minh', 'Nghia', 'Hust']\n"
     ]
    }
   ],
   "source": [
    "# Append to list (append to end of list)\n",
    "names.append(\"Hust\")\n",
    "print(names)"
   ]
  },
  {
   "cell_type": "code",
   "execution_count": 7,
   "metadata": {},
   "outputs": [
    {
     "name": "stdout",
     "output_type": "stream",
     "text": [
      "4\n"
     ]
    }
   ],
   "source": [
    "# Get length of list\n",
    "print(len(names))"
   ]
  },
  {
   "cell_type": "code",
   "execution_count": 8,
   "metadata": {},
   "outputs": [
    {
     "name": "stdout",
     "output_type": "stream",
     "text": [
      "['Nguyen', 'Minh', 'Nghia', 'Hust', 'Bach', 'Khoa']\n"
     ]
    }
   ],
   "source": [
    "# Concate two lists\n",
    "names += [\"Bach\", \"Khoa\"]\n",
    "print(names)"
   ]
  },
  {
   "cell_type": "code",
   "execution_count": 9,
   "metadata": {},
   "outputs": [],
   "source": [
    "# Two ways create an empty list\n",
    "more_names = []\n",
    "more_names = list()"
   ]
  },
  {
   "cell_type": "code",
   "execution_count": 10,
   "metadata": {},
   "outputs": [
    {
     "name": "stdout",
     "output_type": "stream",
     "text": [
      "[1, ['hello', 'bye'], -0.25, None]\n"
     ]
    }
   ],
   "source": [
    "stuff = [1, [\"hello\", \"bye\"], -0.25, None]\n",
    "print(stuff)"
   ]
  },
  {
   "cell_type": "code",
   "execution_count": 11,
   "metadata": {},
   "outputs": [
    {
     "name": "stdout",
     "output_type": "stream",
     "text": [
      "[0, 1, 2]\n"
     ]
    }
   ],
   "source": [
    "numbers = [0,1,2,3,4,5,6]\n",
    "\n",
    "# Slices from start index (inclusive) to end index (exclusive)\n",
    "print(numbers[0:3])"
   ]
  },
  {
   "cell_type": "code",
   "execution_count": 12,
   "metadata": {},
   "outputs": [
    {
     "name": "stdout",
     "output_type": "stream",
     "text": [
      "[0, 1, 2]\n",
      "[3, 4, 5, 6]\n"
     ]
    }
   ],
   "source": [
    "# When start index is not specified, it is start of list\n",
    "print(numbers[:3])\n",
    "\n",
    "# When end index is not specified, it is end of list\n",
    "print(numbers[3:])"
   ]
  },
  {
   "cell_type": "code",
   "execution_count": 13,
   "metadata": {},
   "outputs": [
    {
     "name": "stdout",
     "output_type": "stream",
     "text": [
      "[0, 1, 2, 3, 4, 5, 6]\n"
     ]
    }
   ],
   "source": [
    "# : takes the slice of all elements along a dimension, is very useful when working with numpy arrays\n",
    "print(numbers[:])"
   ]
  },
  {
   "cell_type": "code",
   "execution_count": 14,
   "metadata": {},
   "outputs": [
    {
     "name": "stdout",
     "output_type": "stream",
     "text": [
      "6\n",
      "[4, 5, 6]\n",
      "[3, 4]\n"
     ]
    }
   ],
   "source": [
    "# Negative index wraps around, start counting from the end of list\n",
    "print(numbers[-1])\n",
    "print(numbers[-3:])\n",
    "print(numbers[3:-2])"
   ]
  },
  {
   "cell_type": "markdown",
   "metadata": {},
   "source": [
    "Tuples"
   ]
  },
  {
   "cell_type": "code",
   "execution_count": 15,
   "metadata": {},
   "outputs": [],
   "source": [
    "# Tuple are immutable arrays\n",
    "\n",
    "# Use parenthese for tuples, square brackets for lists\n",
    "tuples = (\"Bach\", \"Khoa\")"
   ]
  },
  {
   "cell_type": "code",
   "execution_count": 16,
   "metadata": {},
   "outputs": [
    {
     "name": "stdout",
     "output_type": "stream",
     "text": [
      "Bach\n",
      "2\n"
     ]
    }
   ],
   "source": [
    "# Syntax for accessing an element and getting length are the same as lists\n",
    "print(tuples[0])\n",
    "print(len(tuples))"
   ]
  },
  {
   "cell_type": "code",
   "execution_count": 18,
   "metadata": {},
   "outputs": [
    {
     "data": {
      "text/plain": [
       "'Khoa'"
      ]
     },
     "execution_count": 18,
     "metadata": {},
     "output_type": "execute_result"
    }
   ],
   "source": [
    "# But unlike lists, tuples do not support item re-assignment\n",
    "tuples[0] = \"Change\""
   ]
  },
  {
   "cell_type": "code",
   "execution_count": 19,
   "metadata": {},
   "outputs": [
    {
     "name": "stdout",
     "output_type": "stream",
     "text": [
      "()\n",
      "(10,)\n"
     ]
    }
   ],
   "source": [
    "# Create an empty tuples\n",
    "empty = tuple()\n",
    "print(empty)\n",
    "\n",
    "# Create a tuple with a single item, the comma is important\n",
    "single = (10,)\n",
    "print(single)"
   ]
  },
  {
   "cell_type": "markdown",
   "metadata": {},
   "source": [
    "Dictionary"
   ]
  },
  {
   "cell_type": "code",
   "execution_count": null,
   "metadata": {},
   "outputs": [],
   "source": [
    "# Dictionary are hash maps\n",
    "\n",
    "# Two ways to create an empty dictionary\n",
    "phonebook = {}\n",
    "phonebook = dict()"
   ]
  },
  {
   "cell_type": "code",
   "execution_count": 20,
   "metadata": {},
   "outputs": [],
   "source": [
    "# Create dictionary with one item\n",
    "phonebook = {\"Nguyen\": \"984\"}\n",
    "# Add another item\n",
    "phonebook[\"Minh\"] = \"324\""
   ]
  },
  {
   "cell_type": "code",
   "execution_count": 22,
   "metadata": {},
   "outputs": [
    {
     "name": "stdout",
     "output_type": "stream",
     "text": [
      "True\n",
      "False\n"
     ]
    }
   ],
   "source": [
    "# Check if a key is in the dictionary\n",
    "print(\"Nguyen\" in phonebook)\n",
    "print(\"Nghia\" in phonebook)"
   ]
  },
  {
   "cell_type": "code",
   "execution_count": 23,
   "metadata": {},
   "outputs": [
    {
     "name": "stdout",
     "output_type": "stream",
     "text": [
      "984\n"
     ]
    }
   ],
   "source": [
    "#Get corresponding value for a key\n",
    "print(phonebook[\"Nguyen\"])"
   ]
  },
  {
   "cell_type": "code",
   "execution_count": 24,
   "metadata": {},
   "outputs": [
    {
     "name": "stdout",
     "output_type": "stream",
     "text": [
      "{'Nguyen': '984'}\n"
     ]
    }
   ],
   "source": [
    "# Delete an item\n",
    "del phonebook[\"Minh\"]\n",
    "print(phonebook)"
   ]
  },
  {
   "cell_type": "markdown",
   "metadata": {},
   "source": [
    "Loops"
   ]
  },
  {
   "cell_type": "code",
   "execution_count": 25,
   "metadata": {},
   "outputs": [
    {
     "name": "stdout",
     "output_type": "stream",
     "text": [
      "0\n",
      "1\n",
      "2\n",
      "3\n",
      "4\n"
     ]
    }
   ],
   "source": [
    "# Basic for loop\n",
    "for i in range(5):\n",
    "    print(i)"
   ]
  },
  {
   "cell_type": "code",
   "execution_count": 26,
   "metadata": {},
   "outputs": [
    {
     "name": "stdout",
     "output_type": "stream",
     "text": [
      "Nguyen\n",
      "Minh\n",
      "Nghia\n",
      "Hust\n",
      "Bach\n",
      "Khoa\n"
     ]
    }
   ],
   "source": [
    "#To iterate over a list\n",
    "for name in names:\n",
    "    print(name)"
   ]
  },
  {
   "cell_type": "code",
   "execution_count": 31,
   "metadata": {},
   "outputs": [
    {
     "name": "stdout",
     "output_type": "stream",
     "text": [
      "0 Nguyen\n",
      "1 Minh\n",
      "2 Nghia\n",
      "3 Hust\n",
      "4 Bach\n",
      "5 Khoa\n",
      "------------\n",
      "0 Nguyen\n",
      "1 Minh\n",
      "2 Nghia\n",
      "3 Hust\n",
      "4 Bach\n",
      "5 Khoa\n"
     ]
    }
   ],
   "source": [
    "# To iterate over indices and values in a list\n",
    "# Way 1\n",
    "for i in range(len(names)):\n",
    "    print(i, names[i])\n",
    "\n",
    "print(\"------------\")\n",
    "\n",
    "# Way 2\n",
    "for i,name in enumerate(names):\n",
    "    print(i, name)"
   ]
  },
  {
   "cell_type": "code",
   "execution_count": 33,
   "metadata": {},
   "outputs": [
    {
     "name": "stdout",
     "output_type": "stream",
     "text": [
      "Nguyen\n",
      "Minh\n",
      "Nghia\n",
      "----------------\n",
      "984\n",
      "324\n",
      "294\n",
      "----------------\n",
      "Nguyen 984\n",
      "Minh 324\n",
      "Nghia 294\n"
     ]
    }
   ],
   "source": [
    "# To iterate over a dictionary\n",
    "phonebook = {\"Nguyen\": \"984\", \"Minh\": \"324\", \"Nghia\": \"294\" }\n",
    "\n",
    "# Iterate over keys\n",
    "for name in phonebook:\n",
    "    print(name)\n",
    "\n",
    "print(\"----------------\")\n",
    "\n",
    "# Iterate over values\n",
    "for number in phonebook.values():\n",
    "    print(number)\n",
    "    \n",
    "print(\"----------------\")\n",
    "\n",
    "# Iterate over keys and values\n",
    "for name, number in phonebook.items():\n",
    "    print(name, number)"
   ]
  },
  {
   "cell_type": "markdown",
   "metadata": {},
   "source": [
    "Numpy"
   ]
  },
  {
   "cell_type": "code",
   "execution_count": 1,
   "metadata": {},
   "outputs": [],
   "source": [
    "import numpy as np"
   ]
  },
  {
   "cell_type": "code",
   "execution_count": 4,
   "metadata": {},
   "outputs": [
    {
     "name": "stdout",
     "output_type": "stream",
     "text": [
      "(3,)\n",
      "(1, 3)\n",
      "\n",
      "[[6 7]\n",
      " [8 9]]\n",
      "(2, 2)\n"
     ]
    }
   ],
   "source": [
    "x = np.array([1,2,3])\n",
    "y = np.array([[3,4,5]])\n",
    "z = np.array([[6,7],[8,9]])\n",
    "\n",
    "print(x.shape)\n",
    "print(y.shape)\n",
    "print()\n",
    "print(z)\n",
    "print(z.shape)"
   ]
  },
  {
   "cell_type": "code",
   "execution_count": 10,
   "metadata": {},
   "outputs": [
    {
     "name": "stdout",
     "output_type": "stream",
     "text": [
      "[0 1 2 3 4 5 6 7 8 9]\n",
      "\n",
      "[[0 1]\n",
      " [2 3]\n",
      " [4 5]\n",
      " [6 7]\n",
      " [8 9]]\n"
     ]
    }
   ],
   "source": [
    "a = np.arange(10)\n",
    "b = a.reshape((5,2))\n",
    "print(a)\n",
    "print()\n",
    "print(b)"
   ]
  },
  {
   "cell_type": "code",
   "execution_count": 9,
   "metadata": {},
   "outputs": [
    {
     "name": "stdout",
     "output_type": "stream",
     "text": [
      "[[1 2]\n",
      " [3 4]\n",
      " [5 6]]\n",
      "\n",
      "(3, 2)\n"
     ]
    }
   ],
   "source": [
    "x = np.array([[1,2],[3,4],[5,6]])\n",
    "print(x)\n",
    "print()\n",
    "print(x.shape)"
   ]
  },
  {
   "cell_type": "code",
   "execution_count": 17,
   "metadata": {},
   "outputs": [
    {
     "name": "stdout",
     "output_type": "stream",
     "text": [
      "[2 4 6]\n"
     ]
    }
   ],
   "source": [
    "print(np.max(x, axis=1))"
   ]
  },
  {
   "cell_type": "code",
   "execution_count": 18,
   "metadata": {},
   "outputs": [
    {
     "name": "stdout",
     "output_type": "stream",
     "text": [
      "(3,)\n"
     ]
    }
   ],
   "source": [
    "print((np.max(x, axis=1)).shape)"
   ]
  },
  {
   "cell_type": "code",
   "execution_count": 21,
   "metadata": {},
   "outputs": [
    {
     "name": "stdout",
     "output_type": "stream",
     "text": [
      "[[2]\n",
      " [4]\n",
      " [6]]\n"
     ]
    }
   ],
   "source": [
    "print(np.max(x, axis=1, keepdims=True))"
   ]
  },
  {
   "cell_type": "code",
   "execution_count": 22,
   "metadata": {},
   "outputs": [
    {
     "name": "stdout",
     "output_type": "stream",
     "text": [
      "(3, 1)\n"
     ]
    }
   ],
   "source": [
    "print(np.max(x, axis=1, keepdims=True).shape)"
   ]
  },
  {
   "cell_type": "code",
   "execution_count": 23,
   "metadata": {},
   "outputs": [
    {
     "name": "stdout",
     "output_type": "stream",
     "text": [
      "[[1 2]\n",
      " [3 4]]\n",
      "[[3 3]\n",
      " [3 3]]\n",
      "\n",
      "[[ 3  6]\n",
      " [ 9 12]]\n"
     ]
    }
   ],
   "source": [
    "A = np.array([[1,2], [3,4]])\n",
    "B = np.array([[3,3], [3,3]])\n",
    "print(A)\n",
    "print(B)\n",
    "print()\n",
    "print(A*B)"
   ]
  },
  {
   "cell_type": "code",
   "execution_count": 24,
   "metadata": {},
   "outputs": [
    {
     "name": "stdout",
     "output_type": "stream",
     "text": [
      "[[ 9  9]\n",
      " [21 21]]\n",
      "[[ 9  9]\n",
      " [21 21]]\n"
     ]
    }
   ],
   "source": [
    "# One way to do matrix multiplication\n",
    "print(np.matmul(A,B))\n",
    "\n",
    "# Another way\n",
    "print(A @ B)"
   ]
  },
  {
   "cell_type": "code",
   "execution_count": 26,
   "metadata": {},
   "outputs": [
    {
     "name": "stdout",
     "output_type": "stream",
     "text": [
      "321\n",
      "321\n"
     ]
    }
   ],
   "source": [
    "u = np.array([1,2,3])\n",
    "v = np.array([1,10,100])\n",
    "\n",
    "print(np.dot(u,v))\n",
    "print(u.dot(v))"
   ]
  },
  {
   "cell_type": "code",
   "execution_count": 27,
   "metadata": {},
   "outputs": [
    {
     "name": "stdout",
     "output_type": "stream",
     "text": [
      "(3,)\n",
      "(3, 2)\n",
      "[531 642]\n",
      "(2,)\n"
     ]
    }
   ],
   "source": [
    "W = np.array([[1,2], [3,4], [5,6]])\n",
    "print(v.shape)\n",
    "print(W.shape)\n",
    "\n",
    "print(np.dot(v, W))\n",
    "print(np.dot(v,W).shape)"
   ]
  },
  {
   "cell_type": "code",
   "execution_count": 31,
   "metadata": {},
   "outputs": [
    {
     "name": "stdout",
     "output_type": "stream",
     "text": [
      "[[0.1799263  0.72359976 0.32706893 0.93575254]\n",
      " [0.01969727 0.78499656 0.76276258 0.94024791]\n",
      " [0.2709661  0.48442704 0.19746639 0.49001666]]\n"
     ]
    }
   ],
   "source": [
    "x = np.random.random((3,4))\n",
    "\n",
    "# Selects all of x\n",
    "print(x[:])"
   ]
  },
  {
   "cell_type": "code",
   "execution_count": 37,
   "metadata": {},
   "outputs": [
    {
     "name": "stdout",
     "output_type": "stream",
     "text": [
      "[[0.1799263  0.72359976 0.32706893 0.93575254]\n",
      " [0.2709661  0.48442704 0.19746639 0.49001666]]\n",
      "\n",
      "[0.78499656 0.76276258]\n"
     ]
    }
   ],
   "source": [
    "# Selects the 0th and 2nd rows\n",
    "print(x[np.array([0,2]), :])\n",
    "print()\n",
    "\n",
    "# Selects 1st row as 1-D vector and 1st through 2nd elements\n",
    "print(x[1, 1:3])"
   ]
  },
  {
   "cell_type": "code",
   "execution_count": 39,
   "metadata": {},
   "outputs": [
    {
     "name": "stdout",
     "output_type": "stream",
     "text": [
      "[0.93575254 0.94024791]\n"
     ]
    }
   ],
   "source": [
    "# Boolean indexing\n",
    "print(x[x>0.8])"
   ]
  },
  {
   "cell_type": "code",
   "execution_count": 40,
   "metadata": {},
   "outputs": [
    {
     "name": "stdout",
     "output_type": "stream",
     "text": [
      "[[[0.1799263 ]\n",
      "  [0.72359976]\n",
      "  [0.32706893]\n",
      "  [0.93575254]]\n",
      "\n",
      " [[0.01969727]\n",
      "  [0.78499656]\n",
      "  [0.76276258]\n",
      "  [0.94024791]]\n",
      "\n",
      " [[0.2709661 ]\n",
      "  [0.48442704]\n",
      "  [0.19746639]\n",
      "  [0.49001666]]]\n"
     ]
    }
   ],
   "source": [
    "# 3-D vector of shape (3,4,1)\n",
    "print(x[:,:,np.newaxis])"
   ]
  },
  {
   "cell_type": "markdown",
   "metadata": {},
   "source": [
    "Broadcasting"
   ]
  },
  {
   "cell_type": "code",
   "execution_count": 42,
   "metadata": {},
   "outputs": [],
   "source": [
    "x = np.random.random((3,4))\n",
    "y = np.random.random((3,1))\n",
    "z = np.random.random((1,4))\n",
    "\n",
    "s = x+y\n",
    "p = x*z"
   ]
  },
  {
   "cell_type": "code",
   "execution_count": 44,
   "metadata": {},
   "outputs": [
    {
     "name": "stdout",
     "output_type": "stream",
     "text": [
      "(3, 4)\n",
      "\n",
      "(3, 1)\n",
      "(3, 4)\n"
     ]
    }
   ],
   "source": [
    "print(x.shape)\n",
    "print(y.shape)\n",
    "print(s.shape)"
   ]
  },
  {
   "cell_type": "code",
   "execution_count": 49,
   "metadata": {},
   "outputs": [
    {
     "name": "stdout",
     "output_type": "stream",
     "text": [
      "[[0. 0. 0.]\n",
      " [0. 0. 0.]\n",
      " [0. 0. 0.]]\n",
      "\n",
      "[[1. 2. 3.]\n",
      " [1. 2. 3.]\n",
      " [1. 2. 3.]]\n"
     ]
    }
   ],
   "source": [
    "a = np.zeros((3,3))\n",
    "b = np.array([[1,2,3]])\n",
    "print(a)\n",
    "print()\n",
    "print(a+b)"
   ]
  },
  {
   "cell_type": "code",
   "execution_count": 50,
   "metadata": {},
   "outputs": [],
   "source": [
    "a = np.random.random((3,4))\n",
    "b = np.random.random((3,1))\n",
    "c = np.random.random((3,))"
   ]
  },
  {
   "cell_type": "code",
   "execution_count": 51,
   "metadata": {},
   "outputs": [
    {
     "name": "stdout",
     "output_type": "stream",
     "text": [
      "(3, 1)\n",
      "(1, 3)\n",
      "(3, 3)\n",
      "[[0.30794496 0.66393448 1.12537078]\n",
      " [0.66393448 1.01992399 1.4813603 ]\n",
      " [1.12537078 1.4813603  1.9427966 ]]\n"
     ]
    }
   ],
   "source": [
    "result1 = b + b.T\n",
    "\n",
    "print(b.shape)\n",
    "print(b.T.shape)\n",
    "print(result1.shape)\n",
    "print(result1)"
   ]
  },
  {
   "cell_type": "code",
   "execution_count": 54,
   "metadata": {},
   "outputs": [
    {
     "name": "stdout",
     "output_type": "stream",
     "text": [
      "(3, 1)\n",
      "(3, 4)\n",
      "(3, 4)\n",
      "[[0.87822746 0.17467823 0.2045999  0.98572511]\n",
      " [1.02363286 0.66233147 1.14625449 0.80347154]\n",
      " [1.15990156 1.21134717 1.19707039 1.92252569]]\n"
     ]
    }
   ],
   "source": [
    "result2 = b + a\n",
    "\n",
    "print(b.shape)\n",
    "print(a.shape)\n",
    "print(result2.shape)\n",
    "print(result2)"
   ]
  },
  {
   "cell_type": "markdown",
   "metadata": {},
   "source": [
    "Efficient NumPy Code"
   ]
  },
  {
   "cell_type": "code",
   "execution_count": 55,
   "metadata": {},
   "outputs": [
    {
     "name": "stdout",
     "output_type": "stream",
     "text": [
      "332 ms ± 29.5 ms per loop (mean ± std. dev. of 7 runs, 1 loop each)\n"
     ]
    }
   ],
   "source": [
    "%%timeit\n",
    "x = np.random.rand(1000,1000)\n",
    "for i in range(100,1000):\n",
    "    for j in range(x.shape[1]):\n",
    "        x[i,j]+=5"
   ]
  },
  {
   "cell_type": "code",
   "execution_count": 56,
   "metadata": {},
   "outputs": [
    {
     "name": "stdout",
     "output_type": "stream",
     "text": [
      "20.4 ms ± 2.66 ms per loop (mean ± std. dev. of 7 runs, 10 loops each)\n"
     ]
    }
   ],
   "source": [
    "%%timeit\n",
    "x = np.random.rand(1000,1000)\n",
    "x[np.arange(100,1000), :] +=5"
   ]
  },
  {
   "cell_type": "code",
   "execution_count": null,
   "metadata": {},
   "outputs": [],
   "source": []
  }
 ],
 "metadata": {
  "kernelspec": {
   "display_name": "nlp",
   "language": "python",
   "name": "python3"
  },
  "language_info": {
   "codemirror_mode": {
    "name": "ipython",
    "version": 3
   },
   "file_extension": ".py",
   "mimetype": "text/x-python",
   "name": "python",
   "nbconvert_exporter": "python",
   "pygments_lexer": "ipython3",
   "version": "3.8.18"
  }
 },
 "nbformat": 4,
 "nbformat_minor": 2
}
